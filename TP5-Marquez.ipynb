{
 "cells": [
  {
   "cell_type": "markdown",
   "metadata": {},
   "source": [
    "# Trabajo Práctico 5\n",
    "### Nombre: Juan Cruz Márquez\n",
    "### Legajo: 13359\n"
   ]
  },
  {
   "cell_type": "markdown",
   "metadata": {},
   "source": [
    "### Objetivo: Obtener la predicción del nombre de la vacuna segun el sexo, grupo_etario, jurisdiccion_aplicacion y condicion_aplicacion\n"
   ]
  },
  {
   "cell_type": "markdown",
   "metadata": {},
   "source": [
    "### Dataset http://datos.salud.gob.ar/dataset/vacunas-contra-covid19-dosis-aplicadas-en-la-republica-argentina al 30/06/2021"
   ]
  },
  {
   "cell_type": "markdown",
   "metadata": {},
   "source": [
    "### Reduci el dataset a 7000 filas y se eliminaron las columnas jurisdiccion_residencia, jurisdiccion_residencia_id, depto_residencia, depto_residencia_id, depto_aplicacion, fecha_aplciacion, orden_dosis, lote_vacuna "
   ]
  },
  {
   "cell_type": "code",
   "execution_count": 1,
   "metadata": {},
   "outputs": [],
   "source": [
    "import pandas as pd\n",
    "import matplotlib.pyplot as plt\n",
    "import numpy as np"
   ]
  },
  {
   "cell_type": "code",
   "execution_count": 2,
   "metadata": {},
   "outputs": [],
   "source": [
    "data = pd.read_csv(r'datavacunas.csv')"
   ]
  },
  {
   "cell_type": "code",
   "execution_count": 3,
   "metadata": {},
   "outputs": [
    {
     "data": {
      "text/html": [
       "<div>\n",
       "<style scoped>\n",
       "    .dataframe tbody tr th:only-of-type {\n",
       "        vertical-align: middle;\n",
       "    }\n",
       "\n",
       "    .dataframe tbody tr th {\n",
       "        vertical-align: top;\n",
       "    }\n",
       "\n",
       "    .dataframe thead th {\n",
       "        text-align: right;\n",
       "    }\n",
       "</style>\n",
       "<table border=\"1\" class=\"dataframe\">\n",
       "  <thead>\n",
       "    <tr style=\"text-align: right;\">\n",
       "      <th></th>\n",
       "      <th>sexo</th>\n",
       "      <th>grupo_etario</th>\n",
       "      <th>jurisdiccion_aplicacion</th>\n",
       "      <th>vacuna</th>\n",
       "      <th>condicion_aplicacion</th>\n",
       "    </tr>\n",
       "  </thead>\n",
       "  <tbody>\n",
       "    <tr>\n",
       "      <th>0</th>\n",
       "      <td>M</td>\n",
       "      <td>90-99</td>\n",
       "      <td>Mendoza</td>\n",
       "      <td>Sputnik</td>\n",
       "      <td>Estratégico</td>\n",
       "    </tr>\n",
       "    <tr>\n",
       "      <th>1</th>\n",
       "      <td>F</td>\n",
       "      <td>30-39</td>\n",
       "      <td>Buenos Aires</td>\n",
       "      <td>Sputnik</td>\n",
       "      <td>Estratégico</td>\n",
       "    </tr>\n",
       "    <tr>\n",
       "      <th>2</th>\n",
       "      <td>F</td>\n",
       "      <td>30-39</td>\n",
       "      <td>Buenos Aires</td>\n",
       "      <td>Sputnik</td>\n",
       "      <td>Estratégico</td>\n",
       "    </tr>\n",
       "    <tr>\n",
       "      <th>3</th>\n",
       "      <td>M</td>\n",
       "      <td>60-69</td>\n",
       "      <td>Santa Fe</td>\n",
       "      <td>Sputnik</td>\n",
       "      <td>60 o más años</td>\n",
       "    </tr>\n",
       "    <tr>\n",
       "      <th>4</th>\n",
       "      <td>M</td>\n",
       "      <td>60-69</td>\n",
       "      <td>Entre Ríos</td>\n",
       "      <td>Sputnik</td>\n",
       "      <td>60 o más años</td>\n",
       "    </tr>\n",
       "    <tr>\n",
       "      <th>...</th>\n",
       "      <td>...</td>\n",
       "      <td>...</td>\n",
       "      <td>...</td>\n",
       "      <td>...</td>\n",
       "      <td>...</td>\n",
       "    </tr>\n",
       "    <tr>\n",
       "      <th>6994</th>\n",
       "      <td>F</td>\n",
       "      <td>80-89</td>\n",
       "      <td>Buenos Aires</td>\n",
       "      <td>Sputnik</td>\n",
       "      <td>60 o más años</td>\n",
       "    </tr>\n",
       "    <tr>\n",
       "      <th>6995</th>\n",
       "      <td>F</td>\n",
       "      <td>80-89</td>\n",
       "      <td>Buenos Aires</td>\n",
       "      <td>Sputnik</td>\n",
       "      <td>60 o más años</td>\n",
       "    </tr>\n",
       "    <tr>\n",
       "      <th>6996</th>\n",
       "      <td>F</td>\n",
       "      <td>70-79</td>\n",
       "      <td>Buenos Aires</td>\n",
       "      <td>COVISHIELD</td>\n",
       "      <td>60 o más años</td>\n",
       "    </tr>\n",
       "    <tr>\n",
       "      <th>6997</th>\n",
       "      <td>F</td>\n",
       "      <td>70-79</td>\n",
       "      <td>Buenos Aires</td>\n",
       "      <td>AstraZeneca</td>\n",
       "      <td>Salud</td>\n",
       "    </tr>\n",
       "    <tr>\n",
       "      <th>6998</th>\n",
       "      <td>M</td>\n",
       "      <td>80-89</td>\n",
       "      <td>Buenos Aires</td>\n",
       "      <td>Sputnik</td>\n",
       "      <td>60 o más años</td>\n",
       "    </tr>\n",
       "  </tbody>\n",
       "</table>\n",
       "<p>6973 rows × 5 columns</p>\n",
       "</div>"
      ],
      "text/plain": [
       "     sexo grupo_etario jurisdiccion_aplicacion       vacuna  \\\n",
       "0       M        90-99                 Mendoza      Sputnik   \n",
       "1       F        30-39            Buenos Aires      Sputnik   \n",
       "2       F        30-39            Buenos Aires      Sputnik   \n",
       "3       M        60-69                Santa Fe      Sputnik   \n",
       "4       M        60-69              Entre Ríos      Sputnik   \n",
       "...   ...          ...                     ...          ...   \n",
       "6994    F        80-89            Buenos Aires      Sputnik   \n",
       "6995    F        80-89            Buenos Aires      Sputnik   \n",
       "6996    F        70-79            Buenos Aires   COVISHIELD   \n",
       "6997    F        70-79            Buenos Aires  AstraZeneca   \n",
       "6998    M        80-89            Buenos Aires      Sputnik   \n",
       "\n",
       "     condicion_aplicacion  \n",
       "0             Estratégico  \n",
       "1             Estratégico  \n",
       "2             Estratégico  \n",
       "3           60 o más años  \n",
       "4           60 o más años  \n",
       "...                   ...  \n",
       "6994        60 o más años  \n",
       "6995        60 o más años  \n",
       "6996        60 o más años  \n",
       "6997                Salud  \n",
       "6998        60 o más años  \n",
       "\n",
       "[6973 rows x 5 columns]"
      ]
     },
     "metadata": {},
     "output_type": "display_data"
    }
   ],
   "source": [
    "dataFrame = pd.DataFrame(data)\n",
    "#Elimino el S.I. de la columna sexo\n",
    "dataFrame.drop(dataFrame.index[(dataFrame[\"sexo\"] == \"S.I.\")],axis=0,inplace=True)\n",
    "dataFrame.drop(dataFrame.index[(dataFrame[\"grupo_etario\"] == \">=100\")],axis=0,inplace=True)\n",
    "\n",
    "display(dataFrame)"
   ]
  },
  {
   "cell_type": "code",
   "execution_count": 4,
   "metadata": {},
   "outputs": [
    {
     "data": {
      "image/png": "[encoded data removed]",
      "text/plain": [
       "<Figure size 432x288 with 1 Axes>"
      ]
     },
     "metadata": {
      "needs_background": "light"
     },
     "output_type": "display_data"
    },
    {
     "name": "stdout",
     "output_type": "stream",
     "text": [
      "Vacunados Hombres:3048\n",
      "Vacunados Mujeres:3927\n"
     ]
    }
   ],
   "source": [
    "#contador segun sexo\n",
    "sexo = data['sexo'].tolist()\n",
    "hombres = data['sexo'].tolist().count('M')\n",
    "mujeres = data['sexo'].tolist().count('F')\n",
    "\n",
    "#Grafica representando cantidad de vacunados por sexo\n",
    "cantidad = [hombres,mujeres]\n",
    "nombres = ['Hombres','Mujeres']\n",
    "\n",
    "fig, ax = plt.subplots()\n",
    "ax = plt.gca()\n",
    "ax.get_yaxis().get_major_formatter().set_useOffset(False)\n",
    "ax.get_yaxis().get_major_formatter().set_scientific(False)\n",
    "ax.set_ylabel('Cantidad')\n",
    "ax.set_xlabel('Sexo')\n",
    "ax.set_title('Vacunados Según Sexo')\n",
    "plt.bar(nombres,cantidad)\n",
    "plt.show()\n",
    "\n",
    "print(f'Vacunados Hombres:{hombres}')\n",
    "print(f'Vacunados Mujeres:{mujeres}')"
   ]
  },
  {
   "cell_type": "code",
   "execution_count": 5,
   "metadata": {},
   "outputs": [
    {
     "data": {
      "image/png": "[encoded data removed]",
      "text/plain": [
       "<Figure size 432x288 with 1 Axes>"
      ]
     },
     "metadata": {
      "needs_background": "light"
     },
     "output_type": "display_data"
    },
    {
     "name": "stdout",
     "output_type": "stream",
     "text": [
      "Vacunas aplicadas = Sputnik 3032, Sinopharm 1309, Covishield 194, Astrazeneca 2464\n"
     ]
    }
   ],
   "source": [
    "#contador tipo de vacuna\n",
    "tipo_vacuna = data['vacuna'].tolist()\n",
    "sputnik = tipo_vacuna.count('Sputnik')\n",
    "sinopharm = tipo_vacuna.count('Sinopharm')\n",
    "covishield = tipo_vacuna.count('COVISHIELD')\n",
    "astrazeneca = tipo_vacuna.count('AstraZeneca')\n",
    "\n",
    "#Grafica cantidad segun el nombre de la vacuna\n",
    "cantidad_vacunas = [sputnik,sinopharm,covishield,astrazeneca]\n",
    "nombres_vacunas = ['Sputnik','Sinopharm','Covishield','Astrazeneca']\n",
    "\n",
    "fig,ax = plt.subplots()\n",
    "ax = plt.gca()\n",
    "ax.get_yaxis()\n",
    "ax.get_yaxis().get_major_formatter().set_useOffset(False)\n",
    "ax.get_yaxis().get_major_formatter().set_scientific(False)\n",
    "ax.set_ylabel('Aplicadas')\n",
    "ax.set_xlabel('Vacuna')\n",
    "ax.set_title('Tipos de Vacunas Aplicadas')\n",
    "plt.bar(nombres_vacunas,cantidad_vacunas)\n",
    "plt.show()\n",
    "\n",
    "print(f'Vacunas aplicadas = Sputnik {sputnik}, Sinopharm {sinopharm}, Covishield {covishield}, Astrazeneca {astrazeneca}')"
   ]
  },
  {
   "cell_type": "code",
   "execution_count": 6,
   "metadata": {},
   "outputs": [
    {
     "data": {
      "image/png": "[encoded data removed]",
      "text/plain": [
       "<Figure size 1440x720 with 1 Axes>"
      ]
     },
     "metadata": {
      "needs_background": "light"
     },
     "output_type": "display_data"
    }
   ],
   "source": [
    "#contador segun el grupo etario\n",
    "grupo_etario = data['grupo_etario'].tolist()\n",
    "grupo_etario_18_29 = grupo_etario.count('18-29')\n",
    "grupo_etario_30_39 = grupo_etario.count('30-39')\n",
    "grupo_etario_40_49 = grupo_etario.count('40-49')\n",
    "grupo_etario_50_59 = grupo_etario.count('50-59')\n",
    "grupo_etario_60_69 = grupo_etario.count('60-69')\n",
    "grupo_etario_70_79 = grupo_etario.count('70-79')\n",
    "grupo_etario_80_89 = grupo_etario.count('80-89')\n",
    "grupo_etario_90_99 = grupo_etario.count('90-99')\n",
    "grupo_etario_100 = grupo_etario.count('>=100')\n",
    "grupo_etario_sininfo = grupo_etario.count('S.I.')\n",
    "\n",
    "#GRAFICO RANGO ETARIO \n",
    "\n",
    "cantidad_rango_etario = [grupo_etario_18_29, \n",
    "grupo_etario_30_39,\n",
    "grupo_etario_40_49,\n",
    "grupo_etario_50_59,\n",
    "grupo_etario_60_69,\n",
    "grupo_etario_70_79,\n",
    "grupo_etario_80_89,\n",
    "grupo_etario_90_99,\n",
    "grupo_etario_100,\n",
    "grupo_etario_sininfo]\n",
    "rango_etario = ['18-29','30-39','40-49','50-59','60-69','70-79','80-89','90-99', '>=100', 'S.I.']\n",
    "\n",
    "fig,ax = plt.subplots(figsize=(20,10))\n",
    "ax = plt.gca()\n",
    "ax.get_yaxis()\n",
    "ax.get_yaxis().get_major_formatter().set_useOffset(False)\n",
    "ax.get_yaxis().get_major_formatter().set_scientific(False)\n",
    "ax.set_ylabel('Cantidad')\n",
    "ax.set_xlabel('Rango Etario')\n",
    "ax.set_title('Vacunados Según Rango Etario')\n",
    "plt.bar(rango_etario,cantidad_rango_etario)\n",
    "plt.show()\n"
   ]
  },
  {
   "cell_type": "code",
   "execution_count": 7,
   "metadata": {},
   "outputs": [
    {
     "data": {
      "image/png": "[encoded data removed]",
      "text/plain": [
       "<Figure size 2520x720 with 1 Axes>"
      ]
     },
     "metadata": {
      "needs_background": "light"
     },
     "output_type": "display_data"
    }
   ],
   "source": [
    "#contador provincia\n",
    "\n",
    "jurisdiccion_residencia = data['jurisdiccion_aplicacion'].tolist()\n",
    "buenosaires = jurisdiccion_residencia.count('Buenos Aires')\n",
    "caba = jurisdiccion_residencia.count('CABA')\n",
    "larioja = jurisdiccion_residencia.count('La Rioja')\n",
    "mendoza = jurisdiccion_residencia.count('Mendoza')\n",
    "misiones = jurisdiccion_residencia.count('Misiones')\n",
    "entrerios = jurisdiccion_residencia.count('Entre Ríos')\n",
    "santafe = jurisdiccion_residencia.count('Santa Fe')\n",
    "cordoba = jurisdiccion_residencia.count('Córdoba')\n",
    "tucuman = jurisdiccion_residencia.count('Tucumán')\n",
    "lapampa = jurisdiccion_residencia.count('La Pampa')\n",
    "sanluis = jurisdiccion_residencia.count('San Luis')\n",
    "santacruz = jurisdiccion_residencia.count('Santa Cruz')\n",
    "jujuy = jurisdiccion_residencia.count('Jujuy')\n",
    "chaco = jurisdiccion_residencia.count('Chaco')\n",
    "chubut = jurisdiccion_residencia.count('Chubut')\n",
    "santiagodelestero = jurisdiccion_residencia.count('Santiago del Estero')\n",
    "salta = jurisdiccion_residencia.count('Salta')\n",
    "rionegro = jurisdiccion_residencia.count('Río Negro')\n",
    "neuquen = jurisdiccion_residencia.count('Neuquén')\n",
    "sanjuan = jurisdiccion_residencia.count('San Juan')\n",
    "formosa = jurisdiccion_residencia.count('Formosa')\n",
    "corrientes = jurisdiccion_residencia.count('Corrientes')\n",
    "catamarca = jurisdiccion_residencia.count('Catamarca')\n",
    "tierradelfuego = jurisdiccion_residencia.count('Tierra del Fuego')\n",
    "sininformacion = jurisdiccion_residencia.count('S.I.')\n",
    "\n",
    "#GRAFICO POR PROVINCIA\n",
    "\n",
    "cantidad_provincia = [buenosaires,caba,larioja,mendoza,misiones,entrerios,santafe,cordoba,tucuman,lapampa,sanluis,santacruz,jujuy,chaco,chubut,santiagodelestero,salta,rionegro,neuquen,sanjuan,formosa,corrientes,catamarca,tierradelfuego,sininformacion]\n",
    "nombre_provincia = ['Buenos Aires','CABA','La Rioja','Mendoza','Misiones','Entre Ríos','Santa Fe','Córdoba','Tucuman','La Pampa','San Luis','Santa Cruz','Jujuy','Chaco','Chubut','Santiago del Estero','Salta','Río Negro','Neuquén','San Juan','Formosa',\n",
    "                     'Corrientes','Catamarca','Tierra del Fuego','Sin Info']\n",
    "cantidad_provincia.sort(reverse=True)\n",
    "fig,ax = plt.subplots(figsize=(35,10))\n",
    "ax = plt.gca()\n",
    "ax.get_yaxis()\n",
    "ax.get_yaxis().get_major_formatter().set_useOffset(False)\n",
    "ax.get_yaxis().get_major_formatter().set_scientific(False)\n",
    "ax.set_ylabel('Vacunados')\n",
    "ax.set_xlabel('Provincia')\n",
    "ax.set_title('Vacunados Según Provincia')\n",
    "plt.bar(nombre_provincia,cantidad_provincia)\n",
    "plt.show()"
   ]
  },
  {
   "cell_type": "code",
   "execution_count": 8,
   "metadata": {},
   "outputs": [],
   "source": [
    "# Creo los arrays X Y\n",
    "X = np.array(dataFrame.drop(['vacuna'],1))\n",
    "y = np.array(dataFrame['vacuna'])"
   ]
  },
  {
   "cell_type": "markdown",
   "metadata": {},
   "source": [
    "### DATA PREPROCESSING"
   ]
  },
  {
   "cell_type": "code",
   "execution_count": 9,
   "metadata": {},
   "outputs": [],
   "source": [
    "from sklearn.model_selection import train_test_split\n",
    "X_train, X_test, y_train, y_test = train_test_split(X, y, test_size = 0.2)"
   ]
  },
  {
   "cell_type": "code",
   "execution_count": 10,
   "metadata": {},
   "outputs": [
    {
     "name": "stdout",
     "output_type": "stream",
     "text": [
      "[[0 4 0 4]\n",
      " [0 4 21 4]\n",
      " [0 3 6 1]\n",
      " ...\n",
      " [0 4 0 7]\n",
      " [1 2 7 1]\n",
      " [0 2 12 5]]\n"
     ]
    }
   ],
   "source": [
    "from sklearn import preprocessing\n",
    "from sklearn.preprocessing import PolynomialFeatures\n",
    "from sklearn.preprocessing import OneHotEncoder, LabelEncoder\n",
    "\n",
    "polyFeatures = PolynomialFeatures(3)\n",
    "encoder = LabelEncoder()\n",
    "ohencoder = OneHotEncoder()\n",
    "\n",
    "#Transformar los generos a 0=Mujer, 1=Hombres\n",
    "\n",
    "\n",
    "X_train[:,0] = encoder.fit_transform(X_train[:,0])\n",
    "X_test[:,0]  = encoder.transform(X_test[:,0])\n",
    "\n",
    "#Transformo la columna de grupo etario\n",
    "X_train[:,1] = encoder.fit_transform(X_train[:,1])\n",
    "X_test[:,1]  = encoder.transform(X_test[:,1])\n",
    "\n",
    "#Transformo la columna de jurisdiccion de aplicacion\n",
    "X_train[:,2] = encoder.fit_transform(X_train[:,2])\n",
    "X_test[:,2]  = encoder.transform(X_test[:,2])\n",
    "\n",
    "#Trasnformo la columna de condicion_aplicacion\n",
    "X_train[:,3] = encoder.fit_transform(X_train[:,3])\n",
    "X_test[:,3]  = encoder.transform(X_test[:,3])\n",
    "\n",
    "print(X_train)"
   ]
  },
  {
   "cell_type": "code",
   "execution_count": 11,
   "metadata": {},
   "outputs": [],
   "source": [
    "#Normalizo las categoricas \n",
    "\n",
    "X_train = ohencoder.fit_transform(X_train).toarray()\n",
    "X_test = ohencoder.transform(X_test).toarray()\n"
   ]
  },
  {
   "cell_type": "code",
   "execution_count": 12,
   "metadata": {},
   "outputs": [],
   "source": [
    "#Utilizo la funcion polynomialFeatures\n",
    "\n",
    "X_train = polyFeatures.fit_transform(X_train)\n",
    "X_test = polyFeatures.transform(X_test)\n"
   ]
  },
  {
   "cell_type": "code",
   "execution_count": 13,
   "metadata": {},
   "outputs": [
    {
     "name": "stdout",
     "output_type": "stream",
     "text": [
      "Accuracy Logistical: 0.6028673835125448\n"
     ]
    },
    {
     "name": "stderr",
     "output_type": "stream",
     "text": [
      "C:\\Users\\Juan Cruz\\anaconda3\\lib\\site-packages\\sklearn\\linear_model\\_logistic.py:762: ConvergenceWarning: lbfgs failed to converge (status=1):\n",
      "STOP: TOTAL NO. of ITERATIONS REACHED LIMIT.\n",
      "\n",
      "Increase the number of iterations (max_iter) or scale the data as shown in:\n",
      "    https://scikit-learn.org/stable/modules/preprocessing.html\n",
      "Please also refer to the documentation for alternative solver options:\n",
      "    https://scikit-learn.org/stable/modules/linear_model.html#logistic-regression\n",
      "  n_iter_i = _check_optimize_result(\n"
     ]
    }
   ],
   "source": [
    "#Utilizo LogisticRegression \n",
    "from sklearn.linear_model import LogisticRegression\n",
    "from sklearn.metrics import accuracy_score\n",
    "log = LogisticRegression(max_iter=1000).fit(X_train, y_train)\n",
    "y_pred_test = log.predict(X_test)\n",
    "\n",
    "#Verifico su accuracy\n",
    "accuracy_log = accuracy_score(y_test,y_pred_test)\n",
    "print('Accuracy Logistical: {}'.format(accuracy_log))"
   ]
  },
  {
   "cell_type": "code",
   "execution_count": 14,
   "metadata": {},
   "outputs": [
    {
     "name": "stdout",
     "output_type": "stream",
     "text": [
      "Accuracy Logistical: 0.5663082437275986\n"
     ]
    }
   ],
   "source": [
    "# Pruebo con knn \n",
    "from sklearn.neighbors import KNeighborsClassifier\n",
    "\n",
    "knn = KNeighborsClassifier()\n",
    "\n",
    "knn.fit(X_train,y_train)\n",
    "\n",
    "y_pred_test = knn.predict(X_test)\n",
    "\n",
    "#Verifico su accuracy\n",
    "accuracy_log = accuracy_score(y_test,y_pred_test)\n",
    "print('Accuracy Logistical: {}'.format(accuracy_log))\n"
   ]
  },
  {
   "cell_type": "markdown",
   "metadata": {},
   "source": [
    "### Al probar con ambos metodos obtengo una mejor accuracy con logistic Regression\n"
   ]
  },
  {
   "cell_type": "code",
   "execution_count": null,
   "metadata": {},
   "outputs": [],
   "source": []
  }
 ],
 "metadata": {
  "kernelspec": {
   "display_name": "Python 3",
   "language": "python",
   "name": "python3"
  },
  "language_info": {
   "codemirror_mode": {
    "name": "ipython",
    "version": 3
   },
   "file_extension": ".py",
   "mimetype": "text/x-python",
   "name": "python",
   "nbconvert_exporter": "python",
   "pygments_lexer": "ipython3",
   "version": "3.8.5"
  }
 },
 "nbformat": 4,
 "nbformat_minor": 4
}
